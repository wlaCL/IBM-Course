{
 "cells": [
  {
   "cell_type": "markdown",
   "id": "b95bd41f-5e55-49db-a246-8a37871785f4",
   "metadata": {},
   "source": [
    "<center>\n",
    "    <img src=\"https://cf-courses-data.s3.us.cloud-object-storage.appdomain.cloud/IBMDeveloperSkillsNetwork-DS0105EN-SkillsNetwork/labs/Module2/images/SN_web_lightmode.png\" width=\"300\" alt=\"cognitiveclass.ai logo\">\n",
    "</center>\n"
   ]
  },
  {
   "cell_type": "markdown",
   "id": "8b3e54b8-e852-49b5-b94e-387c80c5bf5f",
   "metadata": {
    "tags": []
   },
   "source": [
    "# Data Science Tools and Ecosystem"
   ]
  },
  {
   "cell_type": "markdown",
   "id": "7447371b-6991-4894-a328-1e891e29934d",
   "metadata": {
    "tags": []
   },
   "source": [
    "In this notebook, Data Science Tools and Ecosystem are summarized."
   ]
  },
  {
   "cell_type": "markdown",
   "id": "5c7f9a19-2c79-4829-9ca0-342a1d86d094",
   "metadata": {
    "tags": []
   },
   "source": [
    "**Objectives:**\n",
    "+ Getting to know libraries for data science\n",
    "+ Understanding how the Python and Markdown languages \n",
    "+ Listing programming languages used for data science"
   ]
  },
  {
   "cell_type": "markdown",
   "id": "4119b881-7dcc-45d0-81c2-534fa2e67f2f",
   "metadata": {
    "tags": []
   },
   "source": [
    "Some of the popular languages that Data Scientists use are:\n",
    "1. Python\n",
    "2. SQL\n",
    "3. R\n",
    "4. C++\n",
    "5. Julia\n"
   ]
  },
  {
   "cell_type": "markdown",
   "id": "d1d9060e-7008-46cf-8052-464711b17e59",
   "metadata": {
    "tags": []
   },
   "source": [
    "Some of the commonly used libraries used by Data Scientists include:\n",
    "1. Pandas\n",
    "2. Numpy\n",
    "3. Scipy\n",
    "4. Tensorflow\n",
    "5. Pytorch\n",
    "6. Seaborn\n",
    "7. matplotlib\n",
    "8. keras\n",
    "\n"
   ]
  },
  {
   "cell_type": "markdown",
   "id": "1967f2aa-1741-4674-9989-6ed46ad58e7a",
   "metadata": {},
   "source": [
    "|Data Science Tools|\n",
    "|---------|\n",
    "|Apache Spark|\n",
    "|Apache Airflow|\n",
    "|Prometheus|"
   ]
  },
  {
   "cell_type": "markdown",
   "id": "397e8859-586c-4803-82c4-22c02b0ef1a7",
   "metadata": {},
   "source": [
    "### Below are a few examples of evaluating arithmetic expressions in Python"
   ]
  },
  {
   "cell_type": "code",
   "execution_count": 11,
   "id": "09fbc2ad-1aa0-4b96-a09f-087b22c07e8b",
   "metadata": {
    "tags": []
   },
   "outputs": [
    {
     "data": {
      "text/plain": [
       "17"
      ]
     },
     "execution_count": 11,
     "metadata": {},
     "output_type": "execute_result"
    }
   ],
   "source": [
    "# this a simple arithmetic expression to mutiply then add integers\n",
    "(3*4)+5"
   ]
  },
  {
   "cell_type": "code",
   "execution_count": 9,
   "id": "f6aba125-1251-4624-b831-6ad12cd23bde",
   "metadata": {
    "tags": []
   },
   "outputs": [
    {
     "data": {
      "text/plain": [
       "3.3333333333333335"
      ]
     },
     "execution_count": 9,
     "metadata": {},
     "output_type": "execute_result"
    }
   ],
   "source": [
    "# This will convert 200 minutes to hours by diving by 60\n",
    "200/60"
   ]
  },
  {
   "cell_type": "markdown",
   "id": "6e19cc8a-31f6-40c9-893a-2e52d1834b27",
   "metadata": {},
   "source": [
    "## Author"
   ]
  },
  {
   "cell_type": "markdown",
   "id": "1909d96c-c460-4d24-9033-8e17d0c000f4",
   "metadata": {},
   "source": [
    "Abel Cevallos"
   ]
  },
  {
   "cell_type": "code",
   "execution_count": null,
   "id": "6d04caa1-edd3-4659-b9c2-792ea2f96a42",
   "metadata": {},
   "outputs": [],
   "source": []
  }
 ],
 "metadata": {
  "kernelspec": {
   "display_name": "Python",
   "language": "python",
   "name": "conda-env-python-py"
  },
  "language_info": {
   "codemirror_mode": {
    "name": "ipython",
    "version": 3
   },
   "file_extension": ".py",
   "mimetype": "text/x-python",
   "name": "python",
   "nbconvert_exporter": "python",
   "pygments_lexer": "ipython3",
   "version": "3.7.12"
  }
 },
 "nbformat": 4,
 "nbformat_minor": 5
}
